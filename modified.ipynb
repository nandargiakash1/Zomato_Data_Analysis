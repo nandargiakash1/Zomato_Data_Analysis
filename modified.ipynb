{
 "cells": [
  {
   "cell_type": "markdown",
   "id": "a1f3679d",
   "metadata": {},
   "source": [
    "# Zomato_DATA_ANALYSIS"
   ]
  },
  {
   "cell_type": "code",
   "execution_count": 2,
   "id": "fe844095",
   "metadata": {},
   "outputs": [],
   "source": [
    "# Importing all the required libraries\n",
    "import numpy as np\n",
    "import pandas as pd\n",
    "import matplotlib.pyplot as plt\n",
    "import seaborn as sns"
   ]
  },
  {
   "cell_type": "code",
   "execution_count": 3,
   "id": "802c0b07",
   "metadata": {},
   "outputs": [],
   "source": [
    "# Removing warnings \n",
    "import warnings\n",
    "warnings.filterwarnings('ignore')"
   ]
  },
  {
   "cell_type": "code",
   "execution_count": 4,
   "id": "2ee3a014",
   "metadata": {},
   "outputs": [],
   "source": [
    "# loading csv file\n",
    "df=pd.read_csv(\"zomato_outlet_final (11).csv\")"
   ]
  },
  {
   "cell_type": "code",
   "execution_count": 5,
   "id": "9a6a488a",
   "metadata": {},
   "outputs": [
    {
     "data": {
      "text/html": [
       "<div>\n",
       "<style scoped>\n",
       "    .dataframe tbody tr th:only-of-type {\n",
       "        vertical-align: middle;\n",
       "    }\n",
       "\n",
       "    .dataframe tbody tr th {\n",
       "        vertical-align: top;\n",
       "    }\n",
       "\n",
       "    .dataframe thead th {\n",
       "        text-align: right;\n",
       "    }\n",
       "</style>\n",
       "<table border=\"1\" class=\"dataframe\">\n",
       "  <thead>\n",
       "    <tr style=\"text-align: right;\">\n",
       "      <th></th>\n",
       "      <th>link</th>\n",
       "      <th>rest_name</th>\n",
       "      <th>rest_type</th>\n",
       "      <th>loc</th>\n",
       "      <th>dine_rating</th>\n",
       "      <th>dine_reviews</th>\n",
       "      <th>delivery_rating</th>\n",
       "      <th>delivery_reviews</th>\n",
       "      <th>cuisine</th>\n",
       "      <th>Unnamed: 9</th>\n",
       "      <th>Cost (RS)</th>\n",
       "      <th>cost</th>\n",
       "      <th>liked</th>\n",
       "    </tr>\n",
       "  </thead>\n",
       "  <tbody>\n",
       "    <tr>\n",
       "      <th>0</th>\n",
       "      <td>https://www.zomato.com/pune/mix@36-the-westin-...</td>\n",
       "      <td>Mix@36 - The Westin\\r\\r\\n                     ...</td>\n",
       "      <td>Lounge</td>\n",
       "      <td>The Westin, Mundhwa</td>\n",
       "      <td>4.2</td>\n",
       "      <td>(707 Reviews)</td>\n",
       "      <td>NaN</td>\n",
       "      <td>NaN</td>\n",
       "      <td>North Indian,Continental,Asian,Finger Food,</td>\n",
       "      <td>NaN</td>\n",
       "      <td>4300</td>\n",
       "      <td>Rs. 4300</td>\n",
       "      <td>Cocktails, Chaat, Beer</td>\n",
       "    </tr>\n",
       "    <tr>\n",
       "      <th>1</th>\n",
       "      <td>https://www.zomato.com/pune/kangan-the-westin-...</td>\n",
       "      <td>Kangan - The Westin\\r\\r\\n                     ...</td>\n",
       "      <td>Fine Dining</td>\n",
       "      <td>The Westin, Mundhwa</td>\n",
       "      <td>4.1</td>\n",
       "      <td>(344 Reviews)</td>\n",
       "      <td>NaN</td>\n",
       "      <td>NaN</td>\n",
       "      <td>North Indian,Mughlai,</td>\n",
       "      <td>NaN</td>\n",
       "      <td>3500</td>\n",
       "      <td>Rs. 3500</td>\n",
       "      <td>Biryani, Veg Platter, Dal Makhani, Butter Chic...</td>\n",
       "    </tr>\n",
       "    <tr>\n",
       "      <th>2</th>\n",
       "      <td>https://www.zomato.com/pune/coriander-kitchen-...</td>\n",
       "      <td>Coriander Kitchen - Conrad Pune\\r\\r\\n         ...</td>\n",
       "      <td>Fine Dining</td>\n",
       "      <td>Conrad Pune, Bund Garden Road</td>\n",
       "      <td>4.5</td>\n",
       "      <td>(541 Reviews)</td>\n",
       "      <td>NaN</td>\n",
       "      <td>NaN</td>\n",
       "      <td>Mediterranean,Asian,North Indian,</td>\n",
       "      <td>NaN</td>\n",
       "      <td>3200</td>\n",
       "      <td>Rs. 3200</td>\n",
       "      <td>Pasta, Panipuri, Waffles, Pizza, Salad, Chaat,...</td>\n",
       "    </tr>\n",
       "    <tr>\n",
       "      <th>3</th>\n",
       "      <td>https://www.zomato.com/pune/the-market-the-wes...</td>\n",
       "      <td>The Market - The Westin\\r\\r\\n                 ...</td>\n",
       "      <td>Fine Dining</td>\n",
       "      <td>The Westin, Mundhwa</td>\n",
       "      <td>4.0</td>\n",
       "      <td>(55 Reviews)</td>\n",
       "      <td>NaN</td>\n",
       "      <td>NaN</td>\n",
       "      <td>Asian,European,North Indian,</td>\n",
       "      <td>NaN</td>\n",
       "      <td>3200</td>\n",
       "      <td>Rs. 3200</td>\n",
       "      <td>Vanilla Ice Cream, Chaat, Sushi</td>\n",
       "    </tr>\n",
       "    <tr>\n",
       "      <th>4</th>\n",
       "      <td>https://www.zomato.com/pune/vandaag-vivanta-pu...</td>\n",
       "      <td>Vandaag - Vivanta Pune\\r\\r\\n                  ...</td>\n",
       "      <td>Pub,Casual Dining</td>\n",
       "      <td>Vivanta Pune, Hinjewadi</td>\n",
       "      <td>3.9</td>\n",
       "      <td>(113 Reviews)</td>\n",
       "      <td>NaN</td>\n",
       "      <td>NaN</td>\n",
       "      <td>Finger Food,Continental,</td>\n",
       "      <td>NaN</td>\n",
       "      <td>3100</td>\n",
       "      <td>Rs. 3100</td>\n",
       "      <td>Cocktails, Beer, Peri Peri Chicken, Fish, Veg ...</td>\n",
       "    </tr>\n",
       "  </tbody>\n",
       "</table>\n",
       "</div>"
      ],
      "text/plain": [
       "                                                link  \\\n",
       "0  https://www.zomato.com/pune/mix@36-the-westin-...   \n",
       "1  https://www.zomato.com/pune/kangan-the-westin-...   \n",
       "2  https://www.zomato.com/pune/coriander-kitchen-...   \n",
       "3  https://www.zomato.com/pune/the-market-the-wes...   \n",
       "4  https://www.zomato.com/pune/vandaag-vivanta-pu...   \n",
       "\n",
       "                                           rest_name          rest_type  \\\n",
       "0  Mix@36 - The Westin\\r\\r\\n                     ...             Lounge   \n",
       "1  Kangan - The Westin\\r\\r\\n                     ...        Fine Dining   \n",
       "2  Coriander Kitchen - Conrad Pune\\r\\r\\n         ...        Fine Dining   \n",
       "3  The Market - The Westin\\r\\r\\n                 ...        Fine Dining   \n",
       "4  Vandaag - Vivanta Pune\\r\\r\\n                  ...  Pub,Casual Dining   \n",
       "\n",
       "                             loc  dine_rating   dine_reviews  delivery_rating  \\\n",
       "0            The Westin, Mundhwa          4.2  (707 Reviews)              NaN   \n",
       "1            The Westin, Mundhwa          4.1  (344 Reviews)              NaN   \n",
       "2  Conrad Pune, Bund Garden Road          4.5  (541 Reviews)              NaN   \n",
       "3            The Westin, Mundhwa          4.0   (55 Reviews)              NaN   \n",
       "4        Vivanta Pune, Hinjewadi          3.9  (113 Reviews)              NaN   \n",
       "\n",
       "  delivery_reviews                                      cuisine  Unnamed: 9  \\\n",
       "0              NaN  North Indian,Continental,Asian,Finger Food,         NaN   \n",
       "1              NaN                        North Indian,Mughlai,         NaN   \n",
       "2              NaN            Mediterranean,Asian,North Indian,         NaN   \n",
       "3              NaN                 Asian,European,North Indian,         NaN   \n",
       "4              NaN                     Finger Food,Continental,         NaN   \n",
       "\n",
       "   Cost (RS)      cost                                              liked  \n",
       "0       4300  Rs. 4300                             Cocktails, Chaat, Beer  \n",
       "1       3500  Rs. 3500  Biryani, Veg Platter, Dal Makhani, Butter Chic...  \n",
       "2       3200  Rs. 3200  Pasta, Panipuri, Waffles, Pizza, Salad, Chaat,...  \n",
       "3       3200  Rs. 3200                    Vanilla Ice Cream, Chaat, Sushi  \n",
       "4       3100  Rs. 3100  Cocktails, Beer, Peri Peri Chicken, Fish, Veg ...  "
      ]
     },
     "execution_count": 5,
     "metadata": {},
     "output_type": "execute_result"
    }
   ],
   "source": [
    "df.head()"
   ]
  },
  {
   "cell_type": "code",
   "execution_count": 6,
   "id": "a3730233",
   "metadata": {},
   "outputs": [
    {
     "name": "stdout",
     "output_type": "stream",
     "text": [
      "<class 'pandas.core.frame.DataFrame'>\n",
      "RangeIndex: 5433 entries, 0 to 5432\n",
      "Data columns (total 13 columns):\n",
      " #   Column            Non-Null Count  Dtype  \n",
      "---  ------            --------------  -----  \n",
      " 0   link              5433 non-null   object \n",
      " 1   rest_name         5433 non-null   object \n",
      " 2   rest_type         4336 non-null   object \n",
      " 3   loc               5433 non-null   object \n",
      " 4   dine_rating       5433 non-null   float64\n",
      " 5   dine_reviews      4829 non-null   object \n",
      " 6   delivery_rating   2539 non-null   float64\n",
      " 7   delivery_reviews  2539 non-null   object \n",
      " 8   cuisine           5433 non-null   object \n",
      " 9   Unnamed: 9        0 non-null      float64\n",
      " 10  Cost (RS)         5433 non-null   int64  \n",
      " 11  cost              5433 non-null   object \n",
      " 12  liked             2603 non-null   object \n",
      "dtypes: float64(3), int64(1), object(9)\n",
      "memory usage: 551.9+ KB\n"
     ]
    }
   ],
   "source": [
    "df.info()"
   ]
  },
  {
   "cell_type": "code",
   "execution_count": 7,
   "id": "b9ffe253",
   "metadata": {},
   "outputs": [
    {
     "data": {
      "text/plain": [
       "(5433, 13)"
      ]
     },
     "execution_count": 7,
     "metadata": {},
     "output_type": "execute_result"
    }
   ],
   "source": [
    "df.shape"
   ]
  },
  {
   "cell_type": "markdown",
   "id": "7dbfd124",
   "metadata": {},
   "source": [
    "We have 5433 types of retaurants in dataset"
   ]
  },
  {
   "cell_type": "code",
   "execution_count": 8,
   "id": "8f507941",
   "metadata": {},
   "outputs": [
    {
     "data": {
      "text/plain": [
       "Index(['link', 'rest_name', 'rest_type', 'loc', 'dine_rating', 'dine_reviews',\n",
       "       'delivery_rating', 'delivery_reviews', 'cuisine', 'Unnamed: 9',\n",
       "       'Cost (RS)', 'cost', 'liked'],\n",
       "      dtype='object')"
      ]
     },
     "execution_count": 8,
     "metadata": {},
     "output_type": "execute_result"
    }
   ],
   "source": [
    "df.columns"
   ]
  },
  {
   "cell_type": "code",
   "execution_count": 9,
   "id": "d9594600",
   "metadata": {},
   "outputs": [
    {
     "data": {
      "text/plain": [
       "Index(['rest_name', 'rest_type', 'loc', 'dine_rating', 'dine_reviews',\n",
       "       'delivery_rating', 'delivery_reviews', 'cuisine', 'Cost (RS)', 'liked'],\n",
       "      dtype='object')"
      ]
     },
     "execution_count": 9,
     "metadata": {},
     "output_type": "execute_result"
    }
   ],
   "source": [
    "# Removing unnecessary columns 'link','Unnamed: 9','cost' \n",
    "df=df.drop(['link','Unnamed: 9','cost'],axis=1)\n",
    "df.columns"
   ]
  },
  {
   "cell_type": "code",
   "execution_count": 10,
   "id": "8391d1a3",
   "metadata": {},
   "outputs": [
    {
     "data": {
      "text/html": [
       "<div>\n",
       "<style scoped>\n",
       "    .dataframe tbody tr th:only-of-type {\n",
       "        vertical-align: middle;\n",
       "    }\n",
       "\n",
       "    .dataframe tbody tr th {\n",
       "        vertical-align: top;\n",
       "    }\n",
       "\n",
       "    .dataframe thead th {\n",
       "        text-align: right;\n",
       "    }\n",
       "</style>\n",
       "<table border=\"1\" class=\"dataframe\">\n",
       "  <thead>\n",
       "    <tr style=\"text-align: right;\">\n",
       "      <th></th>\n",
       "      <th>rest_name</th>\n",
       "      <th>rest_type</th>\n",
       "      <th>loc</th>\n",
       "      <th>dine_rating</th>\n",
       "      <th>dine_reviews</th>\n",
       "      <th>delivery_rating</th>\n",
       "      <th>delivery_reviews</th>\n",
       "      <th>cuisine</th>\n",
       "      <th>Cost (RS)</th>\n",
       "      <th>liked</th>\n",
       "    </tr>\n",
       "  </thead>\n",
       "  <tbody>\n",
       "    <tr>\n",
       "      <th>0</th>\n",
       "      <td>Mix@36 - The Westin\\r\\r\\n                     ...</td>\n",
       "      <td>Lounge</td>\n",
       "      <td>The Westin, Mundhwa</td>\n",
       "      <td>4.2</td>\n",
       "      <td>(707 Reviews)</td>\n",
       "      <td>NaN</td>\n",
       "      <td>NaN</td>\n",
       "      <td>North Indian,Continental,Asian,Finger Food,</td>\n",
       "      <td>4300</td>\n",
       "      <td>Cocktails, Chaat, Beer</td>\n",
       "    </tr>\n",
       "    <tr>\n",
       "      <th>1</th>\n",
       "      <td>Kangan - The Westin\\r\\r\\n                     ...</td>\n",
       "      <td>Fine Dining</td>\n",
       "      <td>The Westin, Mundhwa</td>\n",
       "      <td>4.1</td>\n",
       "      <td>(344 Reviews)</td>\n",
       "      <td>NaN</td>\n",
       "      <td>NaN</td>\n",
       "      <td>North Indian,Mughlai,</td>\n",
       "      <td>3500</td>\n",
       "      <td>Biryani, Veg Platter, Dal Makhani, Butter Chic...</td>\n",
       "    </tr>\n",
       "    <tr>\n",
       "      <th>2</th>\n",
       "      <td>Coriander Kitchen - Conrad Pune\\r\\r\\n         ...</td>\n",
       "      <td>Fine Dining</td>\n",
       "      <td>Conrad Pune, Bund Garden Road</td>\n",
       "      <td>4.5</td>\n",
       "      <td>(541 Reviews)</td>\n",
       "      <td>NaN</td>\n",
       "      <td>NaN</td>\n",
       "      <td>Mediterranean,Asian,North Indian,</td>\n",
       "      <td>3200</td>\n",
       "      <td>Pasta, Panipuri, Waffles, Pizza, Salad, Chaat,...</td>\n",
       "    </tr>\n",
       "    <tr>\n",
       "      <th>3</th>\n",
       "      <td>The Market - The Westin\\r\\r\\n                 ...</td>\n",
       "      <td>Fine Dining</td>\n",
       "      <td>The Westin, Mundhwa</td>\n",
       "      <td>4.0</td>\n",
       "      <td>(55 Reviews)</td>\n",
       "      <td>NaN</td>\n",
       "      <td>NaN</td>\n",
       "      <td>Asian,European,North Indian,</td>\n",
       "      <td>3200</td>\n",
       "      <td>Vanilla Ice Cream, Chaat, Sushi</td>\n",
       "    </tr>\n",
       "    <tr>\n",
       "      <th>4</th>\n",
       "      <td>Vandaag - Vivanta Pune\\r\\r\\n                  ...</td>\n",
       "      <td>Pub,Casual Dining</td>\n",
       "      <td>Vivanta Pune, Hinjewadi</td>\n",
       "      <td>3.9</td>\n",
       "      <td>(113 Reviews)</td>\n",
       "      <td>NaN</td>\n",
       "      <td>NaN</td>\n",
       "      <td>Finger Food,Continental,</td>\n",
       "      <td>3100</td>\n",
       "      <td>Cocktails, Beer, Peri Peri Chicken, Fish, Veg ...</td>\n",
       "    </tr>\n",
       "  </tbody>\n",
       "</table>\n",
       "</div>"
      ],
      "text/plain": [
       "                                           rest_name          rest_type  \\\n",
       "0  Mix@36 - The Westin\\r\\r\\n                     ...             Lounge   \n",
       "1  Kangan - The Westin\\r\\r\\n                     ...        Fine Dining   \n",
       "2  Coriander Kitchen - Conrad Pune\\r\\r\\n         ...        Fine Dining   \n",
       "3  The Market - The Westin\\r\\r\\n                 ...        Fine Dining   \n",
       "4  Vandaag - Vivanta Pune\\r\\r\\n                  ...  Pub,Casual Dining   \n",
       "\n",
       "                             loc  dine_rating   dine_reviews  delivery_rating  \\\n",
       "0            The Westin, Mundhwa          4.2  (707 Reviews)              NaN   \n",
       "1            The Westin, Mundhwa          4.1  (344 Reviews)              NaN   \n",
       "2  Conrad Pune, Bund Garden Road          4.5  (541 Reviews)              NaN   \n",
       "3            The Westin, Mundhwa          4.0   (55 Reviews)              NaN   \n",
       "4        Vivanta Pune, Hinjewadi          3.9  (113 Reviews)              NaN   \n",
       "\n",
       "  delivery_reviews                                      cuisine  Cost (RS)  \\\n",
       "0              NaN  North Indian,Continental,Asian,Finger Food,       4300   \n",
       "1              NaN                        North Indian,Mughlai,       3500   \n",
       "2              NaN            Mediterranean,Asian,North Indian,       3200   \n",
       "3              NaN                 Asian,European,North Indian,       3200   \n",
       "4              NaN                     Finger Food,Continental,       3100   \n",
       "\n",
       "                                               liked  \n",
       "0                             Cocktails, Chaat, Beer  \n",
       "1  Biryani, Veg Platter, Dal Makhani, Butter Chic...  \n",
       "2  Pasta, Panipuri, Waffles, Pizza, Salad, Chaat,...  \n",
       "3                    Vanilla Ice Cream, Chaat, Sushi  \n",
       "4  Cocktails, Beer, Peri Peri Chicken, Fish, Veg ...  "
      ]
     },
     "execution_count": 10,
     "metadata": {},
     "output_type": "execute_result"
    }
   ],
   "source": [
    "df.head()"
   ]
  },
  {
   "cell_type": "code",
   "execution_count": 11,
   "id": "598aeec5",
   "metadata": {},
   "outputs": [
    {
     "data": {
      "text/plain": [
       "250"
      ]
     },
     "execution_count": 11,
     "metadata": {},
     "output_type": "execute_result"
    }
   ],
   "source": [
    "# Calculating duplicate values\n",
    "df.duplicated().sum() "
   ]
  },
  {
   "cell_type": "markdown",
   "id": "dfff106c",
   "metadata": {},
   "source": [
    "There are 250 duplicate values in dataset"
   ]
  },
  {
   "cell_type": "code",
   "execution_count": 12,
   "id": "06f262c7",
   "metadata": {},
   "outputs": [],
   "source": [
    "# Removing duplicates\n",
    "df=df.drop_duplicates()"
   ]
  },
  {
   "cell_type": "code",
   "execution_count": 13,
   "id": "78c537ce",
   "metadata": {},
   "outputs": [
    {
     "data": {
      "text/plain": [
       "0"
      ]
     },
     "execution_count": 13,
     "metadata": {},
     "output_type": "execute_result"
    }
   ],
   "source": [
    "df.duplicated().sum()"
   ]
  },
  {
   "cell_type": "code",
   "execution_count": 14,
   "id": "d9d9f2e7",
   "metadata": {},
   "outputs": [
    {
     "data": {
      "text/plain": [
       "(5183, 10)"
      ]
     },
     "execution_count": 14,
     "metadata": {},
     "output_type": "execute_result"
    }
   ],
   "source": [
    "df.shape"
   ]
  },
  {
   "cell_type": "markdown",
   "id": "15eac40f",
   "metadata": {},
   "source": [
    "After removing duplicates now we have 5183 restaurant types in dataset"
   ]
  },
  {
   "cell_type": "markdown",
   "id": "c0f86413",
   "metadata": {},
   "source": [
    "# Restaurant types 'rest_type'"
   ]
  },
  {
   "cell_type": "code",
   "execution_count": 15,
   "id": "787e6ba4",
   "metadata": {},
   "outputs": [
    {
     "name": "stdout",
     "output_type": "stream",
     "text": [
      "67\n"
     ]
    }
   ],
   "source": [
    "print(len(df['rest_type'].unique()))"
   ]
  },
  {
   "cell_type": "markdown",
   "id": "4c8282ab",
   "metadata": {},
   "source": [
    "There are 67 different types of restaurants from which customers ordered food  "
   ]
  },
  {
   "cell_type": "code",
   "execution_count": 16,
   "id": "9cadb996",
   "metadata": {},
   "outputs": [
    {
     "data": {
      "text/plain": [
       "Quick Bites                   1467\n",
       "Casual Dining                  911\n",
       "Bakery                         329\n",
       "Dessert Parlor                 308\n",
       "Casual Dining,Bar              241\n",
       "                              ... \n",
       "Casual Dining,Bakery             1\n",
       "Kiosk,Quick Bites                1\n",
       "Dhaba,Bar                        1\n",
       "Microbrewery,Casual Dining       1\n",
       "Paan Shop                        1\n",
       "Name: rest_type, Length: 66, dtype: int64"
      ]
     },
     "execution_count": 16,
     "metadata": {},
     "output_type": "execute_result"
    }
   ],
   "source": [
    "#lets count the number of each Type\n",
    "df['rest_type'].value_counts()"
   ]
  },
  {
   "cell_type": "markdown",
   "id": "f8d31b14",
   "metadata": {},
   "source": [
    "There are all types of restaurants from Quick Bites, Casual Dining to Dhaba, Bar."
   ]
  },
  {
   "cell_type": "code",
   "execution_count": 17,
   "id": "88e9d6ae",
   "metadata": {},
   "outputs": [],
   "source": [
    "rest_type_values=df['rest_type'].value_counts()[:10]"
   ]
  },
  {
   "cell_type": "code",
   "execution_count": 18,
   "id": "8d13cb08",
   "metadata": {},
   "outputs": [
    {
     "data": {
      "text/plain": [
       "<AxesSubplot:xlabel='rest_type'>"
      ]
     },
     "execution_count": 18,
     "metadata": {},
     "output_type": "execute_result"
    },
    {
     "data": {
      "image/png": "[encoded data removed]",
      "text/plain": [
       "<Figure size 720x576 with 1 Axes>"
      ]
     },
     "metadata": {
      "needs_background": "light"
     },
     "output_type": "display_data"
    }
   ],
   "source": [
    "# Barplot of restaurants types \n",
    "plt.figure(figsize=(10,8))\n",
    "sns.barplot(rest_type_values,rest_type_values.index)\n"
   ]
  },
  {
   "cell_type": "markdown",
   "id": "723f5236",
   "metadata": {},
   "source": [
    "There are most number of Quick Bites restaurants followed by Casual Dining and Bakery   "
   ]
  },
  {
   "cell_type": "markdown",
   "id": "61a32f59",
   "metadata": {},
   "source": [
    "# Top Locations"
   ]
  },
  {
   "cell_type": "code",
   "execution_count": 19,
   "id": "816dcca7",
   "metadata": {},
   "outputs": [],
   "source": [
    "total_locations=df['loc'].value_counts()[:10]\n",
    "total_locations\n",
    "places=total_locations.index"
   ]
  },
  {
   "cell_type": "code",
   "execution_count": 20,
   "id": "3cc7aaea",
   "metadata": {},
   "outputs": [
    {
     "data": {
      "text/plain": [
       "<AxesSubplot:xlabel='loc'>"
      ]
     },
     "execution_count": 20,
     "metadata": {},
     "output_type": "execute_result"
    },
    {
     "data": {
      "image/png": "[encoded data removed]",
      "text/plain": [
       "<Figure size 720x576 with 1 Axes>"
      ]
     },
     "metadata": {
      "needs_background": "light"
     },
     "output_type": "display_data"
    }
   ],
   "source": [
    "plt.figure(figsize=(10,8))\n",
    "sns.barplot(total_locations,total_locations.index)"
   ]
  },
  {
   "cell_type": "markdown",
   "id": "3f837e0c",
   "metadata": {},
   "source": [
    "Kothrud has the maximum number of restaurants followed by Wakad and Viman nagar"
   ]
  },
  {
   "cell_type": "code",
   "execution_count": 21,
   "id": "2b8e5385",
   "metadata": {},
   "outputs": [
    {
     "name": "stdout",
     "output_type": "stream",
     "text": [
      "[5.066206102475532, 4.317789291882556, 4.2985991172519675, 4.202648244099021, 4.087507196315487, 3.5118019573978123, 3.454231433506045, 2.725004797543658, 2.5714834004989444, 2.360391479562464]\n"
     ]
    }
   ],
   "source": [
    "def divide_by(x):\n",
    "    a=[]\n",
    "    for i in x:\n",
    "        a.append((i/5211)*100)\n",
    "    return a\n",
    "percentage_distribution = divide_by(total_locations)\n",
    "print(percentage_distribution)"
   ]
  },
  {
   "cell_type": "code",
   "execution_count": 22,
   "id": "4847c676",
   "metadata": {
    "scrolled": true
   },
   "outputs": [
    {
     "data": {
      "text/plain": [
       "(-1.1060814840776274,\n",
       " 1.1002896176871755,\n",
       " -1.1035495896184881,\n",
       " 1.1045536424805558)"
      ]
     },
     "execution_count": 22,
     "metadata": {},
     "output_type": "execute_result"
    },
    {
     "data": {
      "image/png": "[encoded data removed]",
      "text/plain": [
       "<Figure size 432x288 with 1 Axes>"
      ]
     },
     "metadata": {},
     "output_type": "display_data"
    }
   ],
   "source": [
    "labels=places\n",
    "sizes=percentage_distribution\n",
    "fig1, ax1 = plt.subplots()\n",
    "plt.pie(sizes, labels=labels, autopct='%1.1f%%')\n",
    "ax1.axis('equal')"
   ]
  },
  {
   "cell_type": "markdown",
   "id": "5bc96c59",
   "metadata": {},
   "source": [
    "1. Kothrud covers highest percentage 13.8% of top 10 locations in pune.\n",
    "2. Viman Nagar and Wakad covers almost same percentage of the top 10 locations in pune."
   ]
  },
  {
   "cell_type": "markdown",
   "id": "1f559bb8",
   "metadata": {},
   "source": [
    "# Dine rating"
   ]
  },
  {
   "cell_type": "code",
   "execution_count": 23,
   "id": "9e462c8a",
   "metadata": {},
   "outputs": [
    {
     "data": {
      "text/plain": [
       "Text(0, 0.5, 'count of restaurants')"
      ]
     },
     "execution_count": 23,
     "metadata": {},
     "output_type": "execute_result"
    },
    {
     "data": {
      "image/png": "[encoded data removed]",
      "text/plain": [
       "<Figure size 504x360 with 1 Axes>"
      ]
     },
     "metadata": {
      "needs_background": "light"
     },
     "output_type": "display_data"
    }
   ],
   "source": [
    "plt.figure(figsize=(7,5))\n",
    "df['dine_rating']\n",
    "plt.hist(df['dine_rating']) \n",
    "plt.xlabel(\"dine_rating\")\n",
    "plt.ylabel(\"count of restaurants\")\n",
    "# Plotting histogram of dine rating"
   ]
  },
  {
   "cell_type": "markdown",
   "id": "68e53ed9",
   "metadata": {},
   "source": [
    "1. There are more than 500 restaurnants which have 0 ratings.\n",
    "\n",
    "2. Most of the restaurants got rating between 3.5 to 4 which is good sign for zomato.\n",
    "\n",
    "3. There are no restaurants which got ratings between 0.6 to 1.8."
   ]
  },
  {
   "cell_type": "code",
   "execution_count": 24,
   "id": "3fc8356e",
   "metadata": {},
   "outputs": [
    {
     "data": {
      "text/plain": [
       "<AxesSubplot:xlabel='dine_rating', ylabel='Count'>"
      ]
     },
     "execution_count": 24,
     "metadata": {},
     "output_type": "execute_result"
    },
    {
     "data": {
      "image/png": "[encoded data removed]",
      "text/plain": [
       "<Figure size 1080x576 with 1 Axes>"
      ]
     },
     "metadata": {
      "needs_background": "light"
     },
     "output_type": "display_data"
    }
   ],
   "source": [
    "#bar plot\n",
    "dine=df['dine_rating'].value_counts()\n",
    "plt.figure(figsize=(15,8))\n",
    "plt.xlabel(\"dine_rating\")\n",
    "plt.ylabel(\"Count\")\n",
    "sns.barplot(dine.index,dine.values)"
   ]
  },
  {
   "cell_type": "markdown",
   "id": "acd08a68",
   "metadata": {},
   "source": [
    "1. Most of the customers have given 3.9 rating.\n",
    "2. There are lots of restaurants which got 0 ratings."
   ]
  },
  {
   "cell_type": "code",
   "execution_count": 25,
   "id": "40b42d46",
   "metadata": {},
   "outputs": [
    {
     "data": {
      "text/plain": [
       "<AxesSubplot:xlabel='dine_rating'>"
      ]
     },
     "execution_count": 25,
     "metadata": {},
     "output_type": "execute_result"
    },
    {
     "data": {
      "image/png": "[encoded data removed]",
      "text/plain": [
       "<Figure size 504x360 with 1 Axes>"
      ]
     },
     "metadata": {
      "needs_background": "light"
     },
     "output_type": "display_data"
    }
   ],
   "source": [
    "# Box Plot\n",
    "plt.figure(figsize=(7,5))\n",
    "sns.boxplot(df[\"dine_rating\"])\n"
   ]
  },
  {
   "cell_type": "markdown",
   "id": "76a1d325",
   "metadata": {},
   "source": [
    "1. 25% of dine_rating is less than 3.1\n",
    "2. 50% of dine_rating is approximately less than 3.8\n",
    "3. 75% of dine_rating is less than 4\n",
    "4. 50% of the restaurants have rating between 3 to 4 \n",
    "5. There are few restaurants which have 0 rating"
   ]
  },
  {
   "cell_type": "markdown",
   "id": "34f79a11",
   "metadata": {},
   "source": [
    "# Delivery rating"
   ]
  },
  {
   "cell_type": "code",
   "execution_count": 26,
   "id": "c5a51745",
   "metadata": {},
   "outputs": [
    {
     "data": {
      "text/plain": [
       "3.9    446\n",
       "3.8    280\n",
       "4.0    242\n",
       "4.1    227\n",
       "3.7    212\n",
       "4.2    172\n",
       "3.6    164\n",
       "3.5    123\n",
       "4.3     96\n",
       "3.4     90\n",
       "3.3     88\n",
       "4.4     58\n",
       "3.2     58\n",
       "3.1     37\n",
       "4.5     36\n",
       "3.0     24\n",
       "4.6     18\n",
       "2.9     13\n",
       "2.7      7\n",
       "2.6      6\n",
       "2.8      6\n",
       "4.7      3\n",
       "4.8      1\n",
       "2.0      1\n",
       "2.2      1\n",
       "Name: delivery_rating, dtype: int64"
      ]
     },
     "execution_count": 26,
     "metadata": {},
     "output_type": "execute_result"
    }
   ],
   "source": [
    "Delivery_rating=df['delivery_rating'].value_counts()\n",
    "Delivery_rating"
   ]
  },
  {
   "cell_type": "code",
   "execution_count": 27,
   "id": "7203f5cb",
   "metadata": {},
   "outputs": [
    {
     "data": {
      "text/plain": [
       "<AxesSubplot:xlabel='delivery_rating', ylabel='Count'>"
      ]
     },
     "execution_count": 27,
     "metadata": {},
     "output_type": "execute_result"
    },
    {
     "data": {
      "image/png": "[encoded data removed]",
      "text/plain": [
       "<Figure size 1080x576 with 1 Axes>"
      ]
     },
     "metadata": {
      "needs_background": "light"
     },
     "output_type": "display_data"
    }
   ],
   "source": [
    "# Bar plot\n",
    "Delivery=df['delivery_rating'].value_counts()\n",
    "plt.figure(figsize=(15,8))\n",
    "plt.xlabel(\"delivery_rating\")\n",
    "plt.ylabel(\"Count\")\n",
    "sns.barplot(Delivery.index,Delivery.values)"
   ]
  },
  {
   "cell_type": "markdown",
   "id": "3adf628e",
   "metadata": {},
   "source": [
    "1. Most of the restaurants got 3.9 rating\n",
    "2. Very few restaurants got delivery rating less than 2.6 and more than 4.7"
   ]
  },
  {
   "cell_type": "code",
   "execution_count": 28,
   "id": "a79ee843",
   "metadata": {},
   "outputs": [
    {
     "data": {
      "text/plain": [
       "Text(0, 0.5, 'count of restaurants')"
      ]
     },
     "execution_count": 28,
     "metadata": {},
     "output_type": "execute_result"
    },
    {
     "data": {
      "image/png": "[encoded data removed]",
      "text/plain": [
       "<Figure size 504x360 with 1 Axes>"
      ]
     },
     "metadata": {
      "needs_background": "light"
     },
     "output_type": "display_data"
    }
   ],
   "source": [
    "# Histogram\n",
    "plt.figure(figsize=(7,5))\n",
    "plt.hist(df['delivery_rating'])\n",
    "plt.xlabel('delivery_rating')\n",
    "plt.ylabel('count of restaurants')"
   ]
  },
  {
   "cell_type": "markdown",
   "id": "4f928110",
   "metadata": {},
   "source": [
    "Most of the restaurants got delivery rating between 3.7 and 4.0"
   ]
  },
  {
   "cell_type": "code",
   "execution_count": 29,
   "id": "08fae8e5",
   "metadata": {},
   "outputs": [
    {
     "data": {
      "text/plain": [
       "<AxesSubplot:xlabel='delivery_rating'>"
      ]
     },
     "execution_count": 29,
     "metadata": {},
     "output_type": "execute_result"
    },
    {
     "data": {
      "image/png": "[encoded data removed]",
      "text/plain": [
       "<Figure size 504x360 with 1 Axes>"
      ]
     },
     "metadata": {
      "needs_background": "light"
     },
     "output_type": "display_data"
    }
   ],
   "source": [
    "# Box plot\n",
    "plt.figure(figsize=(7,5))\n",
    "sns.boxplot(df['delivery_rating'])"
   ]
  },
  {
   "cell_type": "markdown",
   "id": "4c971114",
   "metadata": {},
   "source": [
    "1. 25 % restaurants got less than 3.6 delivery rating.\n",
    "2. 50 % restaurants got approximately less than 3.9 rating.\n",
    "3. 75 % restaurants got approximately less than 4.2 rating.\n",
    "4. 50 % of delivery rating lies between 3.6 to 4.2 ."
   ]
  },
  {
   "cell_type": "markdown",
   "id": "4e861389",
   "metadata": {},
   "source": [
    "# Cuisine"
   ]
  },
  {
   "cell_type": "code",
   "execution_count": 30,
   "id": "cbf95512",
   "metadata": {},
   "outputs": [
    {
     "data": {
      "text/plain": [
       "0       North Indian,Continental,Asian,Finger Food,\n",
       "1                             North Indian,Mughlai,\n",
       "2                 Mediterranean,Asian,North Indian,\n",
       "3                      Asian,European,North Indian,\n",
       "4                          Finger Food,Continental,\n",
       "                           ...                     \n",
       "5428             South Indian,Chinese,North Indian,\n",
       "5429                               Mughlai,Iranian,\n",
       "5430                Chinese,Fast Food,North Indian,\n",
       "5431       Beverages,Chinese,Street Food,Fast Food,\n",
       "5432                                  Thai,Chinese,\n",
       "Name: cuisine, Length: 5183, dtype: object"
      ]
     },
     "execution_count": 30,
     "metadata": {},
     "output_type": "execute_result"
    }
   ],
   "source": [
    "df['cuisine']"
   ]
  },
  {
   "cell_type": "code",
   "execution_count": 31,
   "id": "e8c6533a",
   "metadata": {},
   "outputs": [
    {
     "data": {
      "text/plain": [
       "array(['North Indian,Continental,Asian,Finger Food,',\n",
       "       'North Indian,Mughlai,', 'Mediterranean,Asian,North Indian,',\n",
       "       'Asian,European,North Indian,', 'Finger Food,Continental,'],\n",
       "      dtype=object)"
      ]
     },
     "execution_count": 31,
     "metadata": {},
     "output_type": "execute_result"
    }
   ],
   "source": [
    "df['cuisine'].unique()[:5]"
   ]
  },
  {
   "cell_type": "code",
   "execution_count": 32,
   "id": "3903ceaa",
   "metadata": {},
   "outputs": [
    {
     "name": "stdout",
     "output_type": "stream",
     "text": [
      "['North Indian', 'Continental', 'Asian', 'Finger Food', '', 'Mughlai', 'Mediterranean', 'European', 'Salad', 'Malaysian', 'Vietnamese', 'Thai', 'Chinese', 'Japanese', 'Biryani', 'Kebab', 'Italian', 'Bar Food', 'Seafood', 'Fast Food', 'Healthy Food', 'Mexican', 'Desserts', 'American', 'Greek', 'Maharashtrian', 'Beverages', 'South American', 'Steak', 'Brazilian', 'Malwani', 'South Indian', 'Chettinad', 'Kerala', 'Mangalorean', 'Pizza', 'Iranian', 'Goan', 'Charcoal Chicken', 'Cafe', 'Modern Indian', 'Korean', 'Sushi', 'Cantonese', 'Momos', 'Bakery', 'Tea', 'BBQ', 'Mongolian', 'Tex-Mex', 'Lebanese', 'Street Food', 'Cuisine Varies', 'Sandwich', 'Middle Eastern', 'African', 'Ethiopian', 'Burger', 'Hyderabadi', 'Parsi', 'German', 'Konkan', 'Rolls', 'Singaporean', 'Indonesian', 'Rajasthani', 'Lucknowi', 'Burmese', 'Bengali', 'Ice Cream', 'Kashmiri', 'Arabian', 'Gujarati', 'French', 'Tibetan', 'Coffee', 'Mithai', 'Bihari', 'Wraps', 'Odia', 'Juices', 'Raw Meats', 'Turkish', 'Frozen Yogurt', 'Awadhi', 'Afghan', 'Paan', 'Assamese', 'Andhra', 'Panini', 'Mishti', 'Naga']\n",
      "92\n"
     ]
    }
   ],
   "source": [
    "# Number of cuisine in Pune\n",
    "cuisine=[]\n",
    "for i in df['cuisine']:\n",
    "    for j in i.split(\",\"):\n",
    "        if j not in cuisine:\n",
    "            cuisine.append(j)\n",
    "print(cuisine)\n",
    "print(len(cuisine))"
   ]
  },
  {
   "cell_type": "markdown",
   "id": "f6ffe28f",
   "metadata": {},
   "source": [
    "There are lot of cuisines in our data but some of them are not actual cuisines like 'Pizza', 'Cafe', 'Momos', 'Tea', 'Sandwich'."
   ]
  },
  {
   "cell_type": "code",
   "execution_count": 33,
   "id": "3f22939b",
   "metadata": {},
   "outputs": [
    {
     "name": "stdout",
     "output_type": "stream",
     "text": [
      "['North Indian', 'Continental', 'Asian', 'Finger Food', 'Mughlai', 'Mediterranean', 'European', 'Salad', 'Malaysian', 'Vietnamese', 'Thai', 'Chinese', 'Japanese', 'Kebab', 'Italian', 'Bar Food', 'Seafood', 'Fast Food', 'Healthy Food', 'Mexican', 'Desserts', 'American', 'Greek', 'Maharashtrian', 'Beverages', 'South American', 'Steak', 'Brazilian', 'Malwani', 'South Indian', 'Chettinad', 'Kerala', 'Mangalorean', 'Iranian', 'Goan', 'Charcoal Chicken', 'Modern Indian', 'Korean', 'Sushi', 'Cantonese', 'Bakery', 'BBQ', 'Mongolian', 'Tex-Mex', 'Lebanese', 'Street Food', 'Cuisine Varies', 'Middle Eastern', 'African', 'Ethiopian', 'Hyderabadi', 'Parsi', 'German', 'Konkan', 'Singaporean', 'Indonesian', 'Rajasthani', 'Lucknowi', 'Burmese', 'Bengali', 'Kashmiri', 'Arabian', 'Gujarati', 'French', 'Tibetan', 'Bihari', 'Odia', 'Turkish', 'Awadhi', 'Afghan', 'Assamese', 'Andhra', 'Panini', 'Mishti', 'Naga']\n",
      "75\n"
     ]
    }
   ],
   "source": [
    "# Lets remove unwanted cuisines which are not actual cuisines.\n",
    "\n",
    "not_cuisines=['','Pizza','Cafe','Momos','Tea','Sandwich','Burger','Rolls','Ice Cream','Coffee','Mithai','Wraps','Juices','Raw Meats','Frozen Yogurt','Paan','Biryani']\n",
    "for i in not_cuisines:\n",
    "    cuisine.remove(i)\n",
    "    \n",
    "print(cuisine)\n",
    "print(len(cuisine))"
   ]
  },
  {
   "cell_type": "markdown",
   "id": "d9c1e0d6",
   "metadata": {},
   "source": [
    "So, There are total 75 different types of cuisines in our data."
   ]
  },
  {
   "cell_type": "markdown",
   "id": "70c421c5",
   "metadata": {},
   "source": [
    "# Finding number of restaurants in pune serving specific type of cuisine."
   ]
  },
  {
   "cell_type": "code",
   "execution_count": 34,
   "id": "7952369f",
   "metadata": {},
   "outputs": [
    {
     "name": "stdout",
     "output_type": "stream",
     "text": [
      "2057\n"
     ]
    }
   ],
   "source": [
    "# Number of restaurants having cuisine North Indian\n",
    "\n",
    "a=[]\n",
    "b=[]\n",
    "for i in df['cuisine']:\n",
    "    a=i.split(',')\n",
    "    b.append(a)\n",
    "count=0\n",
    "for i in b:\n",
    "    for j in i:\n",
    "        if j==\"North Indian\":\n",
    "            count=count+1\n",
    "print(count)\n"
   ]
  },
  {
   "cell_type": "markdown",
   "id": "0214b41d",
   "metadata": {},
   "source": [
    " So, We have 2057 restaurant serving North Indian food in Pune"
   ]
  },
  {
   "cell_type": "code",
   "execution_count": 35,
   "id": "46cc2cbd",
   "metadata": {},
   "outputs": [
    {
     "name": "stdout",
     "output_type": "stream",
     "text": [
      "478\n"
     ]
    }
   ],
   "source": [
    "# Number of restaurants having cuisine Continental\n",
    "\n",
    "a=[]\n",
    "b=[]\n",
    "for i in df['cuisine']:\n",
    "    a=i.split(',')\n",
    "    b.append(a)\n",
    "count=0\n",
    "for i in b:\n",
    "    for j in i:\n",
    "        if j=='Continental':\n",
    "            count=count+1\n",
    "print(count)\n"
   ]
  },
  {
   "cell_type": "markdown",
   "id": "60cd2268",
   "metadata": {},
   "source": [
    "We have 478 restaurants having Continental food in Pune"
   ]
  },
  {
   "cell_type": "code",
   "execution_count": 36,
   "id": "6dfe107b",
   "metadata": {},
   "outputs": [
    {
     "name": "stdout",
     "output_type": "stream",
     "text": [
      "North Indian : 2057\n",
      "Continental : 478\n",
      "Asian : 251\n",
      "Finger Food : 154\n",
      "Mughlai : 493\n",
      "Mediterranean : 27\n",
      "European : 83\n",
      "Salad : 164\n",
      "Malaysian : 11\n",
      "Vietnamese : 6\n",
      "Thai : 120\n",
      "Chinese : 1431\n",
      "Japanese : 33\n",
      "Kebab : 130\n",
      "Italian : 461\n",
      "Bar Food : 55\n",
      "Seafood : 233\n",
      "Fast Food : 1419\n",
      "Healthy Food : 109\n",
      "Mexican : 98\n",
      "Desserts : 996\n",
      "American : 71\n",
      "Greek : 1\n",
      "Maharashtrian : 395\n",
      "Beverages : 1058\n",
      "South American : 2\n",
      "Steak : 7\n",
      "Brazilian : 4\n",
      "Malwani : 115\n",
      "South Indian : 358\n",
      "Chettinad : 6\n",
      "Kerala : 15\n",
      "Mangalorean : 22\n",
      "Iranian : 8\n",
      "Goan : 19\n",
      "Charcoal Chicken : 4\n",
      "Modern Indian : 46\n",
      "Korean : 15\n",
      "Sushi : 21\n",
      "Cantonese : 1\n",
      "Bakery : 581\n",
      "BBQ : 17\n",
      "Mongolian : 1\n",
      "Tex-Mex : 1\n",
      "Lebanese : 55\n",
      "Street Food : 494\n",
      "Cuisine Varies : 4\n",
      "Middle Eastern : 3\n",
      "African : 1\n",
      "Ethiopian : 1\n",
      "Hyderabadi : 37\n",
      "Parsi : 7\n",
      "German : 8\n",
      "Konkan : 10\n",
      "Singaporean : 3\n",
      "Indonesian : 4\n",
      "Rajasthani : 15\n",
      "Lucknowi : 9\n",
      "Burmese : 2\n",
      "Bengali : 27\n",
      "Kashmiri : 3\n",
      "Arabian : 14\n",
      "Gujarati : 11\n",
      "French : 4\n",
      "Tibetan : 10\n",
      "Bihari : 2\n",
      "Odia : 3\n",
      "Turkish : 1\n",
      "Awadhi : 3\n",
      "Afghan : 4\n",
      "Assamese : 2\n",
      "Andhra : 6\n",
      "Panini : 5\n",
      "Mishti : 1\n",
      "Naga : 1\n"
     ]
    }
   ],
   "source": [
    "#  Number of restaurants in pune serving specific type of cuisine.\n",
    "\n",
    "a=[]\n",
    "b=[]\n",
    "for i in df['cuisine']:\n",
    "    a=i.split(',')\n",
    "    b.append(a)    \n",
    "d=[]\n",
    "\n",
    "for k in cuisine:\n",
    "    count=0\n",
    "    for i in b:\n",
    "        for j in i:\n",
    "            if j==k:\n",
    "                count=count+1\n",
    "    d.append(count)            \n",
    "    print(k,\":\",count)\n",
    "\n"
   ]
  },
  {
   "cell_type": "markdown",
   "id": "7fafe8fc",
   "metadata": {},
   "source": [
    "There are more number of restaurants serving North Indian Food followed by Chinese food."
   ]
  },
  {
   "cell_type": "markdown",
   "id": "e26def43",
   "metadata": {},
   "source": [
    "# Cost"
   ]
  },
  {
   "cell_type": "code",
   "execution_count": 37,
   "id": "4538f0a6",
   "metadata": {},
   "outputs": [
    {
     "data": {
      "text/plain": [
       "0       4300\n",
       "1       3500\n",
       "2       3200\n",
       "3       3200\n",
       "4       3100\n",
       "        ... \n",
       "5428     550\n",
       "5429     800\n",
       "5430     500\n",
       "5431     250\n",
       "5432     500\n",
       "Name: Cost (RS), Length: 5183, dtype: int64"
      ]
     },
     "execution_count": 37,
     "metadata": {},
     "output_type": "execute_result"
    }
   ],
   "source": [
    "df['Cost (RS)']"
   ]
  },
  {
   "cell_type": "code",
   "execution_count": 38,
   "id": "ee0fe613",
   "metadata": {},
   "outputs": [
    {
     "data": {
      "text/plain": [
       "300     759\n",
       "400     624\n",
       "500     525\n",
       "200     352\n",
       "600     321\n",
       "350     313\n",
       "250     217\n",
       "150     198\n",
       "700     185\n",
       "1200    176\n",
       "1000    172\n",
       "550     170\n",
       "450     150\n",
       "1500    140\n",
       "800     133\n",
       "1300    102\n",
       "100     102\n",
       "1100     71\n",
       "1600     64\n",
       "2000     63\n",
       "1400     63\n",
       "900      43\n",
       "1800     42\n",
       "1700     37\n",
       "650      37\n",
       "750      26\n",
       "2500     17\n",
       "3000     12\n",
       "2200      9\n",
       "2100      9\n",
       "Name: Cost (RS), dtype: int64"
      ]
     },
     "execution_count": 38,
     "metadata": {},
     "output_type": "execute_result"
    }
   ],
   "source": [
    "cost=df['Cost (RS)'].value_counts()[:30]\n",
    "cost"
   ]
  },
  {
   "cell_type": "code",
   "execution_count": 39,
   "id": "04d0908b",
   "metadata": {},
   "outputs": [
    {
     "data": {
      "text/plain": [
       "Text(0, 0.5, 'Count of Restaurants')"
      ]
     },
     "execution_count": 39,
     "metadata": {},
     "output_type": "execute_result"
    },
    {
     "data": {
      "image/png": "[encoded data removed]",
      "text/plain": [
       "<Figure size 1080x576 with 1 Axes>"
      ]
     },
     "metadata": {
      "needs_background": "light"
     },
     "output_type": "display_data"
    }
   ],
   "source": [
    "#Bar plot\n",
    "plt.figure(figsize=(15,8))\n",
    "sns.barplot(cost.index,cost.values)\n",
    "plt.xlabel('Cost (RS)')\n",
    "plt.ylabel('Count of Restaurants')"
   ]
  },
  {
   "cell_type": "markdown",
   "id": "828418ea",
   "metadata": {},
   "source": [
    "1. There are 759 restaurants which average costs Rs300.\n",
    "2. There are 624 restaurants which average costs Rs400."
   ]
  },
  {
   "cell_type": "code",
   "execution_count": 40,
   "id": "9d175009",
   "metadata": {},
   "outputs": [
    {
     "data": {
      "text/plain": [
       "<AxesSubplot:xlabel='Cost (RS)'>"
      ]
     },
     "execution_count": 40,
     "metadata": {},
     "output_type": "execute_result"
    },
    {
     "data": {
      "image/png": "[encoded data removed]",
      "text/plain": [
       "<Figure size 504x360 with 1 Axes>"
      ]
     },
     "metadata": {
      "needs_background": "light"
     },
     "output_type": "display_data"
    }
   ],
   "source": [
    "plt.figure(figsize=(7,5))\n",
    "sns.boxplot(df['Cost (RS)'])"
   ]
  },
  {
   "cell_type": "markdown",
   "id": "d83e2fce",
   "metadata": {},
   "source": [
    "50 % of restaurants average costs between Rs. 300 to Rs.850"
   ]
  },
  {
   "cell_type": "markdown",
   "id": "d539c01b",
   "metadata": {},
   "source": [
    "# Restaurants belong to specific location"
   ]
  },
  {
   "cell_type": "code",
   "execution_count": 41,
   "id": "b24ee1ea",
   "metadata": {},
   "outputs": [],
   "source": [
    "df2=df.groupby([\"loc\"])"
   ]
  },
  {
   "cell_type": "code",
   "execution_count": 42,
   "id": "e51805c5",
   "metadata": {},
   "outputs": [],
   "source": [
    "kothrud=df2.get_group(\"Kothrud\")"
   ]
  },
  {
   "cell_type": "code",
   "execution_count": 43,
   "id": "d7c79f96",
   "metadata": {},
   "outputs": [
    {
     "data": {
      "text/html": [
       "<div>\n",
       "<style scoped>\n",
       "    .dataframe tbody tr th:only-of-type {\n",
       "        vertical-align: middle;\n",
       "    }\n",
       "\n",
       "    .dataframe tbody tr th {\n",
       "        vertical-align: top;\n",
       "    }\n",
       "\n",
       "    .dataframe thead th {\n",
       "        text-align: right;\n",
       "    }\n",
       "</style>\n",
       "<table border=\"1\" class=\"dataframe\">\n",
       "  <thead>\n",
       "    <tr style=\"text-align: right;\">\n",
       "      <th></th>\n",
       "      <th>rest_name</th>\n",
       "      <th>rest_type</th>\n",
       "      <th>loc</th>\n",
       "      <th>dine_rating</th>\n",
       "      <th>dine_reviews</th>\n",
       "      <th>delivery_rating</th>\n",
       "      <th>delivery_reviews</th>\n",
       "      <th>cuisine</th>\n",
       "      <th>Cost (RS)</th>\n",
       "      <th>liked</th>\n",
       "    </tr>\n",
       "  </thead>\n",
       "  <tbody>\n",
       "    <tr>\n",
       "      <th>161</th>\n",
       "      <td>The 3 Musketeers Sky Gallary\\r\\r\\n            ...</td>\n",
       "      <td>Casual Dining,Bar</td>\n",
       "      <td>Kothrud</td>\n",
       "      <td>0.0</td>\n",
       "      <td>NaN</td>\n",
       "      <td>NaN</td>\n",
       "      <td>NaN</td>\n",
       "      <td>Beverages,Chinese,Continental,</td>\n",
       "      <td>1700</td>\n",
       "      <td>NaN</td>\n",
       "    </tr>\n",
       "    <tr>\n",
       "      <th>183</th>\n",
       "      <td>Bacharika- Rooftop Bar And Kitchen\\r\\r\\n      ...</td>\n",
       "      <td>Casual Dining,Bar</td>\n",
       "      <td>Kothrud</td>\n",
       "      <td>4.1</td>\n",
       "      <td>(238 Reviews)</td>\n",
       "      <td>NaN</td>\n",
       "      <td>NaN</td>\n",
       "      <td>European,Middle Eastern,Continental,North Indi...</td>\n",
       "      <td>1600</td>\n",
       "      <td>NaN</td>\n",
       "    </tr>\n",
       "    <tr>\n",
       "      <th>191</th>\n",
       "      <td>ALC Bar &amp; Bites\\r\\r\\n                         ...</td>\n",
       "      <td>Bar,Casual Dining</td>\n",
       "      <td>Kothrud</td>\n",
       "      <td>3.7</td>\n",
       "      <td>(38 Reviews)</td>\n",
       "      <td>NaN</td>\n",
       "      <td>NaN</td>\n",
       "      <td>North Indian,Chinese,</td>\n",
       "      <td>1600</td>\n",
       "      <td>NaN</td>\n",
       "    </tr>\n",
       "    <tr>\n",
       "      <th>214</th>\n",
       "      <td>Barometer\\r\\r\\n                               ...</td>\n",
       "      <td>Casual Dining</td>\n",
       "      <td>Kothrud</td>\n",
       "      <td>4.6</td>\n",
       "      <td>-1,591</td>\n",
       "      <td>4.3</td>\n",
       "      <td>-1,797</td>\n",
       "      <td>Finger Food,North Indian,Asian,Continental,</td>\n",
       "      <td>1500</td>\n",
       "      <td>Cocktails, Pizza, Pasta, Filtered Coffee, Nach...</td>\n",
       "    </tr>\n",
       "    <tr>\n",
       "      <th>236</th>\n",
       "      <td>German Bakery Wunderbar\\r\\r\\n                 ...</td>\n",
       "      <td>Casual Dining</td>\n",
       "      <td>Kothrud</td>\n",
       "      <td>3.0</td>\n",
       "      <td>(91 Reviews)</td>\n",
       "      <td>NaN</td>\n",
       "      <td>NaN</td>\n",
       "      <td>Beverages,Desserts,Cafe,Italian,Continental,Ge...</td>\n",
       "      <td>1000</td>\n",
       "      <td>NaN</td>\n",
       "    </tr>\n",
       "    <tr>\n",
       "      <th>...</th>\n",
       "      <td>...</td>\n",
       "      <td>...</td>\n",
       "      <td>...</td>\n",
       "      <td>...</td>\n",
       "      <td>...</td>\n",
       "      <td>...</td>\n",
       "      <td>...</td>\n",
       "      <td>...</td>\n",
       "      <td>...</td>\n",
       "      <td>...</td>\n",
       "    </tr>\n",
       "    <tr>\n",
       "      <th>5338</th>\n",
       "      <td>Sudit All Day Kitchen\\r\\n                     ...</td>\n",
       "      <td>Casual Dining</td>\n",
       "      <td>Kothrud</td>\n",
       "      <td>3.7</td>\n",
       "      <td>-59</td>\n",
       "      <td>3.9</td>\n",
       "      <td>-61</td>\n",
       "      <td>North Indian,Maharashtrian,Chinese,</td>\n",
       "      <td>1000</td>\n",
       "      <td>NaN</td>\n",
       "    </tr>\n",
       "    <tr>\n",
       "      <th>5339</th>\n",
       "      <td>Taco Alfresco\\r\\n                             ...</td>\n",
       "      <td>Café</td>\n",
       "      <td>Kothrud</td>\n",
       "      <td>4.0</td>\n",
       "      <td>-113</td>\n",
       "      <td>4.1</td>\n",
       "      <td>-570</td>\n",
       "      <td>Mexican,Cafe,</td>\n",
       "      <td>650</td>\n",
       "      <td>Nachos, Burrito Bowl, Coffee, Hot Chocolate, K...</td>\n",
       "    </tr>\n",
       "    <tr>\n",
       "      <th>5343</th>\n",
       "      <td>Parth Veg &amp; Non Veg\\r\\n                       ...</td>\n",
       "      <td>Casual Dining</td>\n",
       "      <td>Kothrud</td>\n",
       "      <td>3.6</td>\n",
       "      <td>-32</td>\n",
       "      <td>4.2</td>\n",
       "      <td>-257</td>\n",
       "      <td>Maharashtrian,Fast Food,Seafood,North Indian,</td>\n",
       "      <td>500</td>\n",
       "      <td>NaN</td>\n",
       "    </tr>\n",
       "    <tr>\n",
       "      <th>5374</th>\n",
       "      <td>Yahoo!!! Momos\\r\\n                            ...</td>\n",
       "      <td>Quick Bites</td>\n",
       "      <td>Kothrud</td>\n",
       "      <td>2.9</td>\n",
       "      <td>-356</td>\n",
       "      <td>3.8</td>\n",
       "      <td>-4,726</td>\n",
       "      <td>Ice Cream,Momos,</td>\n",
       "      <td>300</td>\n",
       "      <td>Chicken 65, Iced Tea, Veg Momos, Tandoori Momo...</td>\n",
       "    </tr>\n",
       "    <tr>\n",
       "      <th>5400</th>\n",
       "      <td>Taj 24/7\\r\\n</td>\n",
       "      <td>NaN</td>\n",
       "      <td>Kothrud</td>\n",
       "      <td>0.0</td>\n",
       "      <td>NaN</td>\n",
       "      <td>NaN</td>\n",
       "      <td>NaN</td>\n",
       "      <td>Beverages,South Indian,Street Food,</td>\n",
       "      <td>200</td>\n",
       "      <td>NaN</td>\n",
       "    </tr>\n",
       "  </tbody>\n",
       "</table>\n",
       "<p>264 rows × 10 columns</p>\n",
       "</div>"
      ],
      "text/plain": [
       "                                              rest_name          rest_type  \\\n",
       "161   The 3 Musketeers Sky Gallary\\r\\r\\n            ...  Casual Dining,Bar   \n",
       "183   Bacharika- Rooftop Bar And Kitchen\\r\\r\\n      ...  Casual Dining,Bar   \n",
       "191   ALC Bar & Bites\\r\\r\\n                         ...  Bar,Casual Dining   \n",
       "214   Barometer\\r\\r\\n                               ...      Casual Dining   \n",
       "236   German Bakery Wunderbar\\r\\r\\n                 ...      Casual Dining   \n",
       "...                                                 ...                ...   \n",
       "5338  Sudit All Day Kitchen\\r\\n                     ...      Casual Dining   \n",
       "5339  Taco Alfresco\\r\\n                             ...               Café   \n",
       "5343  Parth Veg & Non Veg\\r\\n                       ...      Casual Dining   \n",
       "5374  Yahoo!!! Momos\\r\\n                            ...        Quick Bites   \n",
       "5400   Taj 24/7\\r\\n                                                    NaN   \n",
       "\n",
       "          loc  dine_rating   dine_reviews  delivery_rating delivery_reviews  \\\n",
       "161   Kothrud          0.0            NaN              NaN              NaN   \n",
       "183   Kothrud          4.1  (238 Reviews)              NaN              NaN   \n",
       "191   Kothrud          3.7   (38 Reviews)              NaN              NaN   \n",
       "214   Kothrud          4.6         -1,591              4.3           -1,797   \n",
       "236   Kothrud          3.0   (91 Reviews)              NaN              NaN   \n",
       "...       ...          ...            ...              ...              ...   \n",
       "5338  Kothrud          3.7            -59              3.9              -61   \n",
       "5339  Kothrud          4.0           -113              4.1             -570   \n",
       "5343  Kothrud          3.6            -32              4.2             -257   \n",
       "5374  Kothrud          2.9           -356              3.8           -4,726   \n",
       "5400  Kothrud          0.0            NaN              NaN              NaN   \n",
       "\n",
       "                                                cuisine  Cost (RS)  \\\n",
       "161                      Beverages,Chinese,Continental,       1700   \n",
       "183   European,Middle Eastern,Continental,North Indi...       1600   \n",
       "191                               North Indian,Chinese,       1600   \n",
       "214         Finger Food,North Indian,Asian,Continental,       1500   \n",
       "236   Beverages,Desserts,Cafe,Italian,Continental,Ge...       1000   \n",
       "...                                                 ...        ...   \n",
       "5338                North Indian,Maharashtrian,Chinese,       1000   \n",
       "5339                                      Mexican,Cafe,        650   \n",
       "5343      Maharashtrian,Fast Food,Seafood,North Indian,        500   \n",
       "5374                                   Ice Cream,Momos,        300   \n",
       "5400                Beverages,South Indian,Street Food,        200   \n",
       "\n",
       "                                                  liked  \n",
       "161                                                 NaN  \n",
       "183                                                 NaN  \n",
       "191                                                 NaN  \n",
       "214   Cocktails, Pizza, Pasta, Filtered Coffee, Nach...  \n",
       "236                                                 NaN  \n",
       "...                                                 ...  \n",
       "5338                                                NaN  \n",
       "5339  Nachos, Burrito Bowl, Coffee, Hot Chocolate, K...  \n",
       "5343                                                NaN  \n",
       "5374  Chicken 65, Iced Tea, Veg Momos, Tandoori Momo...  \n",
       "5400                                                NaN  \n",
       "\n",
       "[264 rows x 10 columns]"
      ]
     },
     "execution_count": 43,
     "metadata": {},
     "output_type": "execute_result"
    }
   ],
   "source": [
    "kothrud"
   ]
  },
  {
   "cell_type": "markdown",
   "id": "04086a9a",
   "metadata": {},
   "source": [
    "There are total 264 restraurants in Kothrud from which customers oftenly ordered food."
   ]
  },
  {
   "cell_type": "code",
   "execution_count": 44,
   "id": "99dd3430",
   "metadata": {},
   "outputs": [
    {
     "data": {
      "text/plain": [
       "Baner                                   55\n",
       "Viman Nagar                             47\n",
       "Koregaon Park                           39\n",
       "Kothrud                                 37\n",
       "Wakad                                   27\n",
       "                                        ..\n",
       "CityONE Mall                             1\n",
       "The Ramee Grand Hotel, Shivaji Nagar     1\n",
       "Grand Exotica Business Hotel             1\n",
       "Bund Garden Road                         1\n",
       "Parichay Hotel, FC Road                  1\n",
       "Name: loc, Length: 115, dtype: int64"
      ]
     },
     "execution_count": 44,
     "metadata": {},
     "output_type": "execute_result"
    }
   ],
   "source": [
    "# Number of restaurants having dine_rating greater than 4 & less than 4.5 by location\n",
    "\n",
    "ratings_bw=df[(df['dine_rating']>4) & (df['dine_rating']<4.5)]\n",
    "ratings_bw['loc'].value_counts()"
   ]
  },
  {
   "cell_type": "code",
   "execution_count": 45,
   "id": "391a9621",
   "metadata": {},
   "outputs": [
    {
     "data": {
      "text/html": [
       "<div>\n",
       "<style scoped>\n",
       "    .dataframe tbody tr th:only-of-type {\n",
       "        vertical-align: middle;\n",
       "    }\n",
       "\n",
       "    .dataframe tbody tr th {\n",
       "        vertical-align: top;\n",
       "    }\n",
       "\n",
       "    .dataframe thead th {\n",
       "        text-align: right;\n",
       "    }\n",
       "</style>\n",
       "<table border=\"1\" class=\"dataframe\">\n",
       "  <thead>\n",
       "    <tr style=\"text-align: right;\">\n",
       "      <th></th>\n",
       "      <th>rest_name</th>\n",
       "      <th>rest_type</th>\n",
       "      <th>loc</th>\n",
       "      <th>dine_rating</th>\n",
       "      <th>dine_reviews</th>\n",
       "      <th>delivery_rating</th>\n",
       "      <th>delivery_reviews</th>\n",
       "      <th>cuisine</th>\n",
       "      <th>Cost (RS)</th>\n",
       "      <th>liked</th>\n",
       "    </tr>\n",
       "  </thead>\n",
       "  <tbody>\n",
       "    <tr>\n",
       "      <th>214</th>\n",
       "      <td>Barometer\\r\\r\\n                               ...</td>\n",
       "      <td>Casual Dining</td>\n",
       "      <td>Kothrud</td>\n",
       "      <td>4.6</td>\n",
       "      <td>-1,591</td>\n",
       "      <td>4.3</td>\n",
       "      <td>-1,797</td>\n",
       "      <td>Finger Food,North Indian,Asian,Continental,</td>\n",
       "      <td>1500</td>\n",
       "      <td>Cocktails, Pizza, Pasta, Filtered Coffee, Nach...</td>\n",
       "    </tr>\n",
       "    <tr>\n",
       "      <th>776</th>\n",
       "      <td>Barometer\\r\\n</td>\n",
       "      <td>Casual Dining</td>\n",
       "      <td>Kothrud</td>\n",
       "      <td>4.6</td>\n",
       "      <td>-1,591</td>\n",
       "      <td>4.4</td>\n",
       "      <td>-1,790</td>\n",
       "      <td>Finger Food,North Indian,Asian,Continental,</td>\n",
       "      <td>1500</td>\n",
       "      <td>Cocktails, Pizza, Pasta, Filtered Coffee, Nach...</td>\n",
       "    </tr>\n",
       "    <tr>\n",
       "      <th>1524</th>\n",
       "      <td>Le Petit Amour Patisserie &amp; Bistro\\r\\n        ...</td>\n",
       "      <td>Café,Dessert Parlor</td>\n",
       "      <td>Kothrud</td>\n",
       "      <td>4.6</td>\n",
       "      <td>-881</td>\n",
       "      <td>4.3</td>\n",
       "      <td>-473</td>\n",
       "      <td>Salad,Desserts,European,French,Cafe,</td>\n",
       "      <td>800</td>\n",
       "      <td>Pasta, Sandwich, Salad, Fries, Cheesecake, Fis...</td>\n",
       "    </tr>\n",
       "  </tbody>\n",
       "</table>\n",
       "</div>"
      ],
      "text/plain": [
       "                                              rest_name            rest_type  \\\n",
       "214   Barometer\\r\\r\\n                               ...        Casual Dining   \n",
       "776   Barometer\\r\\n                                            Casual Dining   \n",
       "1524  Le Petit Amour Patisserie & Bistro\\r\\n        ...  Café,Dessert Parlor   \n",
       "\n",
       "          loc  dine_rating dine_reviews  delivery_rating delivery_reviews  \\\n",
       "214   Kothrud          4.6       -1,591              4.3           -1,797   \n",
       "776   Kothrud          4.6       -1,591              4.4           -1,790   \n",
       "1524  Kothrud          4.6         -881              4.3             -473   \n",
       "\n",
       "                                          cuisine  Cost (RS)  \\\n",
       "214   Finger Food,North Indian,Asian,Continental,       1500   \n",
       "776   Finger Food,North Indian,Asian,Continental,       1500   \n",
       "1524         Salad,Desserts,European,French,Cafe,        800   \n",
       "\n",
       "                                                  liked  \n",
       "214   Cocktails, Pizza, Pasta, Filtered Coffee, Nach...  \n",
       "776   Cocktails, Pizza, Pasta, Filtered Coffee, Nach...  \n",
       "1524  Pasta, Sandwich, Salad, Fries, Cheesecake, Fis...  "
      ]
     },
     "execution_count": 45,
     "metadata": {},
     "output_type": "execute_result"
    }
   ],
   "source": [
    "# Restaurants in Kothrud having dine rating greater than 4.5\n",
    "kothrud[kothrud['dine_rating']>4.5]"
   ]
  },
  {
   "cell_type": "code",
   "execution_count": null,
   "id": "398c42ce",
   "metadata": {},
   "outputs": [],
   "source": []
  }
 ],
 "metadata": {
  "kernelspec": {
   "display_name": "Python 3 (ipykernel)",
   "language": "python",
   "name": "python3"
  },
  "language_info": {
   "codemirror_mode": {
    "name": "ipython",
    "version": 3
   },
   "file_extension": ".py",
   "mimetype": "text/x-python",
   "name": "python",
   "nbconvert_exporter": "python",
   "pygments_lexer": "ipython3",
   "version": "3.9.7"
  }
 },
 "nbformat": 4,
 "nbformat_minor": 5
}
